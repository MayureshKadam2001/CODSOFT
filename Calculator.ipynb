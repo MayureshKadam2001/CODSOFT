{
  "nbformat": 4,
  "nbformat_minor": 0,
  "metadata": {
    "colab": {
      "provenance": [],
      "authorship_tag": "ABX9TyNPKvMg6Srs3V31CetzJ2x4",
      "include_colab_link": true
    },
    "kernelspec": {
      "name": "python3",
      "display_name": "Python 3"
    },
    "language_info": {
      "name": "python"
    }
  },
  "cells": [
    {
      "cell_type": "markdown",
      "metadata": {
        "id": "view-in-github",
        "colab_type": "text"
      },
      "source": [
        "<a href=\"https://colab.research.google.com/github/MayureshKadam2001/CODSOFT/blob/main/Calculator.ipynb\" target=\"_parent\"><img src=\"https://colab.research.google.com/assets/colab-badge.svg\" alt=\"Open In Colab\"/></a>"
      ]
    },
    {
      "cell_type": "code",
      "execution_count": 2,
      "metadata": {
        "colab": {
          "base_uri": "https://localhost:8080/"
        },
        "id": "riilBtOUMCLV",
        "outputId": "53b0fb7b-adf8-4f7e-e262-826102062287"
      },
      "outputs": [
        {
          "name": "stdout",
          "output_type": "stream",
          "text": [
            "Calculator\n",
            "1. Addition (+)\n",
            "2. Subtraction (-)\n",
            "3. Multiplication (*)\n",
            "4. Division (/)\n",
            "Enter first number: 3\n",
            "Enter second number: 4\n",
            "Select operation (+, -, *, /): +\n",
            "Result: 7\n",
            "Do you want to perform another calculation? (yes/no): no\n"
          ]
        }
      ],
      "source": [
        "def calculator():\n",
        "    print(\"Calculator\")\n",
        "    print(\"1. Addition (+)\")\n",
        "    print(\"2. Subtraction (-)\")\n",
        "    print(\"3. Multiplication (*)\")\n",
        "    print(\"4. Division (/)\")\n",
        "\n",
        "    while True:\n",
        "        try:\n",
        "            x = int(input(\"Enter first number: \"))\n",
        "            y = int(input(\"Enter second number: \"))\n",
        "            operation = input(\"Select operation (+, -, *, /): \")\n",
        "\n",
        "            if operation == '+':\n",
        "                result = x + y\n",
        "            elif operation == '-':\n",
        "                result = x - y\n",
        "            elif operation == '*':\n",
        "                result = x * y\n",
        "            elif operation == '/':\n",
        "                if y != 0:\n",
        "                    result = x / y\n",
        "                else:\n",
        "                    print('Division by 0!')\n",
        "            else:\n",
        "                print(\"Invalid operation! Please select from +, -, *, /\")\n",
        "\n",
        "            print(\"Result:\",result)\n",
        "\n",
        "            repeat = input(\"Do you want to perform another calculation? (yes/no): \")\n",
        "            if repeat.lower() != 'yes':\n",
        "                break\n",
        "        except ValueError:\n",
        "             print(\"Invalid input! Please enter valid numbers.\")\n",
        "calculator()"
      ]
    },
    {
      "cell_type": "code",
      "source": [],
      "metadata": {
        "id": "mJs5QSxUUrNF"
      },
      "execution_count": null,
      "outputs": []
    }
  ]
}