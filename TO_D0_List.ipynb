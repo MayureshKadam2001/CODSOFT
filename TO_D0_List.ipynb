{
  "nbformat": 4,
  "nbformat_minor": 0,
  "metadata": {
    "colab": {
      "provenance": [],
      "authorship_tag": "ABX9TyN9X+P7SbFWWI4d9fed9lNi",
      "include_colab_link": true
    },
    "kernelspec": {
      "name": "python3",
      "display_name": "Python 3"
    },
    "language_info": {
      "name": "python"
    }
  },
  "cells": [
    {
      "cell_type": "markdown",
      "metadata": {
        "id": "view-in-github",
        "colab_type": "text"
      },
      "source": [
        "<a href=\"https://colab.research.google.com/github/MayureshKadam2001/CODSOFT/blob/main/TO_D0_List.ipynb\" target=\"_parent\"><img src=\"https://colab.research.google.com/assets/colab-badge.svg\" alt=\"Open In Colab\"/></a>"
      ]
    },
    {
      "cell_type": "code",
      "execution_count": 3,
      "metadata": {
        "colab": {
          "base_uri": "https://localhost:8080/"
        },
        "id": "nBb1o4OYbRNl",
        "outputId": "dcf44e51-33da-402e-81cd-fe3f09d008a3"
      },
      "outputs": [
        {
          "output_type": "stream",
          "name": "stdout",
          "text": [
            "\n",
            "TODO LIST MENU:\n",
            "1. Add task\n",
            "2. Remove task\n",
            "3. Print tasks\n",
            "4. Exit\n",
            "Enter your choice (1-4): 1\n",
            "Enter the task to add: Soap\n",
            "Task added: Soap\n",
            "\n",
            "TODO LIST MENU:\n",
            "1. Add task\n",
            "2. Remove task\n",
            "3. Print tasks\n",
            "4. Exit\n",
            "Enter your choice (1-4): 1\n",
            "Enter the task to add: Bottle\n",
            "Task added: Bottle\n",
            "\n",
            "TODO LIST MENU:\n",
            "1. Add task\n",
            "2. Remove task\n",
            "3. Print tasks\n",
            "4. Exit\n",
            "Enter your choice (1-4): Bag\n",
            "Invalid choice. Please enter a number from 1 to 4.\n",
            "\n",
            "TODO LIST MENU:\n",
            "1. Add task\n",
            "2. Remove task\n",
            "3. Print tasks\n",
            "4. Exit\n",
            "Enter your choice (1-4): 2\n",
            "Enter the task to remove: Bottle\n",
            "Task removed: Bottle\n",
            "\n",
            "TODO LIST MENU:\n",
            "1. Add task\n",
            "2. Remove task\n",
            "3. Print tasks\n",
            "4. Exit\n",
            "Enter your choice (1-4): 3\n",
            "Current tasks:\n",
            "- Soap\n",
            "\n",
            "TODO LIST MENU:\n",
            "1. Add task\n",
            "2. Remove task\n",
            "3. Print tasks\n",
            "4. Exit\n",
            "Enter your choice (1-4): 4\n",
            "Exiting program.\n"
          ]
        }
      ],
      "source": [
        "todo_list = []\n",
        "\n",
        "def add_task(task):\n",
        "    todo_list.append(task)\n",
        "    print(\"Task added:\", task)\n",
        "\n",
        "def remove_task(task):\n",
        "    if task in todo_list:\n",
        "        todo_list.remove(task)\n",
        "        print(\"Task removed:\", task)\n",
        "    else:\n",
        "        print(\"Task not found.\")\n",
        "\n",
        "def print_tasks():\n",
        "    print(\"Current tasks:\")\n",
        "    for task in todo_list:\n",
        "        print(\"-\", task)\n",
        "\n",
        "while True:\n",
        "    print(\"\\nTODO LIST MENU:\")\n",
        "    print(\"1. Add task\")\n",
        "    print(\"2. Remove task\")\n",
        "    print(\"3. Print tasks\")\n",
        "    print(\"4. Exit\")\n",
        "\n",
        "    choice = input(\"Enter your choice (1-4): \")\n",
        "\n",
        "    if choice == '1':\n",
        "        task = input(\"Enter the task to add: \")\n",
        "        add_task(task)\n",
        "    elif choice == '2':\n",
        "        task = input(\"Enter the task to remove: \")\n",
        "        remove_task(task)\n",
        "    elif choice == '3':\n",
        "        print_tasks()\n",
        "    elif choice == '4':\n",
        "        print(\"Exiting program.\")\n",
        "        break\n",
        "    else:\n",
        "        print(\"Invalid choice. Please enter a number from 1 to 4.\")\n"
      ]
    },
    {
      "cell_type": "code",
      "source": [
        "\n"
      ],
      "metadata": {
        "id": "zf1ANqinbbIX"
      },
      "execution_count": null,
      "outputs": []
    }
  ]
}