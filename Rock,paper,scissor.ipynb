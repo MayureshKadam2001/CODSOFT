{
  "nbformat": 4,
  "nbformat_minor": 0,
  "metadata": {
    "colab": {
      "provenance": [],
      "authorship_tag": "ABX9TyMhJ2e8jpf7tnCIAAuZ2dan",
      "include_colab_link": true
    },
    "kernelspec": {
      "name": "python3",
      "display_name": "Python 3"
    },
    "language_info": {
      "name": "python"
    }
  },
  "cells": [
    {
      "cell_type": "markdown",
      "metadata": {
        "id": "view-in-github",
        "colab_type": "text"
      },
      "source": [
        "<a href=\"https://colab.research.google.com/github/MayureshKadam2001/CODSOFT/blob/main/Rock%2Cpaper%2Cscissor.ipynb\" target=\"_parent\"><img src=\"https://colab.research.google.com/assets/colab-badge.svg\" alt=\"Open In Colab\"/></a>"
      ]
    },
    {
      "cell_type": "code",
      "source": [
        "import random\n",
        "\n",
        "def play_game():\n",
        "    print(\"Rock-Paper-Scissors!\")\n",
        "\n",
        "    while True:\n",
        "        player_1 = input(\"Enter 'rock', 'paper', or 'scissors': \").lower()\n",
        "        while player_1 not in ['rock', 'paper', 'scissors']:\n",
        "            player_1 = input(\"Invalid choice. Please enter 'rock', 'paper', or 'scissors': \").lower()\n",
        "\n",
        "        player_2 = random.choice(['rock', 'paper', 'scissors'])\n",
        "        print(\"player_1 chooses \" + str(player_1) + \", player_2 chooses \" + str(player_2) + \".\")\n",
        "\n",
        "        if player_1 == player_2:\n",
        "            print(\"It's a tie!\")\n",
        "\n",
        "        elif (player_1 == 'rock' and player_2 == 'scissors') or \\\n",
        "             (player_1 == 'paper' and player_2 == 'rock') or \\\n",
        "             (player_1 == 'scissors' and player_2 == 'paper'):\n",
        "            print(\"player_1 wins!\")\n",
        "\n",
        "        else:\n",
        "            print(\"player_2 wins!\")\n",
        "        if input(\"Do you want to play again? (yes/no): \").lower() != 'yes':\n",
        "            print(\"Thanks for playing!\")\n",
        "            break\n",
        "\n",
        "play_game()"
      ],
      "metadata": {
        "colab": {
          "base_uri": "https://localhost:8080/"
        },
        "id": "zITm-aPTfRL-",
        "outputId": "d3923d41-c7c2-4b07-d3e3-2bdea38e620c"
      },
      "execution_count": null,
      "outputs": [
        {
          "output_type": "stream",
          "name": "stdout",
          "text": [
            "Rock-Paper-Scissors!\n",
            "Enter 'rock', 'paper', or 'scissors': rock\n",
            "player_1 chooses rock, player_2 chooses scissors.\n",
            "player_1 wins!\n",
            "Do you want to play again? (yes/no): no\n",
            "Thanks for playing!\n"
          ]
        }
      ]
    },
    {
      "cell_type": "code",
      "source": [],
      "metadata": {
        "id": "QdWoXQocipcQ"
      },
      "execution_count": null,
      "outputs": []
    }
  ]
}