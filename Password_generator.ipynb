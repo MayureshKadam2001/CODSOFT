{
  "nbformat": 4,
  "nbformat_minor": 0,
  "metadata": {
    "colab": {
      "provenance": [],
      "authorship_tag": "ABX9TyPz7nYyWk1FAbrITqdKzBGf",
      "include_colab_link": true
    },
    "kernelspec": {
      "name": "python3",
      "display_name": "Python 3"
    },
    "language_info": {
      "name": "python"
    }
  },
  "cells": [
    {
      "cell_type": "markdown",
      "metadata": {
        "id": "view-in-github",
        "colab_type": "text"
      },
      "source": [
        "<a href=\"https://colab.research.google.com/github/MayureshKadam2001/CODSOFT/blob/main/Password_generator.ipynb\" target=\"_parent\"><img src=\"https://colab.research.google.com/assets/colab-badge.svg\" alt=\"Open In Colab\"/></a>"
      ]
    },
    {
      "cell_type": "code",
      "execution_count": 6,
      "metadata": {
        "colab": {
          "base_uri": "https://localhost:8080/"
        },
        "id": "0mI3VHotk2Hw",
        "outputId": "bb01e456-5a6a-4346-ef1d-02f01920184e"
      },
      "outputs": [
        {
          "output_type": "stream",
          "name": "stdout",
          "text": [
            "Generated password: *KUkOblS\n"
          ]
        }
      ],
      "source": [
        "import random\n",
        "\n",
        "def generate_password(length=8):\n",
        "  characters = \"abcdefghijklmnopqrstuvwxyzABCDEFGHIJKLMNOPQRSTUVWXYZ0123456789!@#$%^&*()_-+=\"\n",
        "  return ''.join(random.choice(characters) for _ in range(length))\n",
        "\n",
        "password = generate_password()\n",
        "print(\"Generated password:\", password)"
      ]
    },
    {
      "cell_type": "code",
      "source": [],
      "metadata": {
        "id": "MqCyHByupK5W"
      },
      "execution_count": 4,
      "outputs": []
    }
  ]
}